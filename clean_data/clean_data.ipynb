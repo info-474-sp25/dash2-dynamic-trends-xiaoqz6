{
 "cells": [
  {
   "cell_type": "code",
   "execution_count": 1,
   "metadata": {},
   "outputs": [],
   "source": [
    "import pandas as pd"
   ]
  },
  {
   "cell_type": "code",
   "execution_count": 2,
   "metadata": {},
   "outputs": [
    {
     "name": "stdout",
     "output_type": "stream",
     "text": [
      "<class 'pandas.core.frame.DataFrame'>\n",
      "RangeIndex: 1987 entries, 0 to 1986\n",
      "Data columns (total 20 columns):\n",
      " #   Column                  Non-Null Count  Dtype  \n",
      "---  ------                  --------------  -----  \n",
      " 0   Accident_Number         1987 non-null   object \n",
      " 1   Event_Date              1987 non-null   object \n",
      " 2   Location                1965 non-null   object \n",
      " 3   Country                 1963 non-null   object \n",
      " 4   Latitude                646 non-null    float64\n",
      " 5   Longitude               647 non-null    float64\n",
      " 6   Airport_Code            976 non-null    object \n",
      " 7   Airport_Name            1020 non-null   object \n",
      " 8   Injury_Severity         1987 non-null   object \n",
      " 9   Aircraft_Damage         1155 non-null   object \n",
      " 10  Registration_Number     1154 non-null   object \n",
      " 11  Make                    1987 non-null   object \n",
      " 12  Model                   1987 non-null   object \n",
      " 13  Schedule                1798 non-null   object \n",
      " 14  Air_Carrier             629 non-null    object \n",
      " 15  Total_Fatal_Injuries    1987 non-null   int64  \n",
      " 16  Total_Serious_Injuries  1987 non-null   int64  \n",
      " 17  Total_Uninjured         1513 non-null   float64\n",
      " 18  Weather_Condition       1272 non-null   object \n",
      " 19  Broad_Phase_of_Flight   1116 non-null   object \n",
      "dtypes: float64(3), int64(2), object(15)\n",
      "memory usage: 310.6+ KB\n"
     ]
    },
    {
     "data": {
      "text/plain": [
       "(None,\n",
       "   Accident_Number Event_Date        Location        Country   Latitude  \\\n",
       " 0      ATL00LA092    9/17/00     ATLANTA, GA  United States        NaN   \n",
       " 1      DCA08FA018   12/16/07  Providence, RI  United States        NaN   \n",
       " 2      DCA10CA018   12/18/09      Dallas, TX  United States  32.896944   \n",
       " 3      ENG12IA004   10/23/11     Atlanta, GA  United States        NaN   \n",
       " 4     DCA11CA084A    7/14/11      Boston, MA  United States  42.353333   \n",
       " \n",
       "    Longitude Airport_Code                    Airport_Name Injury_Severity  \\\n",
       " 0        NaN          NaN                             NaN       Non-Fatal   \n",
       " 1        NaN         KPVD         Theodore F. Green State       Non-Fatal   \n",
       " 2 -97.038055          DFW  Dallas/Fort Worth Intl Airport       Non-Fatal   \n",
       " 3        NaN          ATL  Hartsfield-Jackson Atlanta Int        Incident   \n",
       " 4 -71.014444          BOS   GENERAL EDWARD LAWRENCE LOGAN       Non-Fatal   \n",
       " \n",
       "   Aircraft_Damage Registration_Number        Make    Model Schedule  \\\n",
       " 0             NaN              N853AS  Bombardier  CRJ-200     SCHD   \n",
       " 1     Substantial              N470ZW  Bombardier   CL-600     SCHD   \n",
       " 2     Substantial              N515AE  Bombardier   CL-600     SCHD   \n",
       " 3             NaN              N751EV  Bombardier   CL-600     SCHD   \n",
       " 4     Substantial              N132EV  Bombardier   CL-600     SCHD   \n",
       " \n",
       "                                          Air_Carrier  Total_Fatal_Injuries  \\\n",
       " 0                            (DBA: DELTA CONNECTION)                     0   \n",
       " 1                             Air Wisconsin Airlines                     0   \n",
       " 2                                     American Eagle                     0   \n",
       " 3                    ATLANTIC SOUTHEAST AIRLINES INC                     0   \n",
       " 4  ATLANTIC SOUTHEAST AIRLINES INC (DBA: ATLANTIC...                     0   \n",
       " \n",
       "    Total_Serious_Injuries  Total_Uninjured Weather_Condition  \\\n",
       " 0                       1             50.0               VMC   \n",
       " 1                       0             34.0               IMC   \n",
       " 2                       0              3.0               VMC   \n",
       " 3                       0              NaN               NaN   \n",
       " 4                       0            291.0               VMC   \n",
       " \n",
       "   Broad_Phase_of_Flight  \n",
       " 0                CRUISE  \n",
       " 1               LANDING  \n",
       " 2              STANDING  \n",
       " 3               LANDING  \n",
       " 4              STANDING  )"
      ]
     },
     "execution_count": 2,
     "metadata": {},
     "output_type": "execute_result"
    }
   ],
   "source": [
    "file_path = \"./aircraft_incidents.csv\"\n",
    "df = pd.read_csv(file_path, encoding='ISO-8859-1')\n",
    "df.info(), df.head()"
   ]
  },
  {
   "cell_type": "code",
   "execution_count": 3,
   "metadata": {},
   "outputs": [
    {
     "data": {
      "text/html": [
       "<div>\n",
       "<style scoped>\n",
       "    .dataframe tbody tr th:only-of-type {\n",
       "        vertical-align: middle;\n",
       "    }\n",
       "\n",
       "    .dataframe tbody tr th {\n",
       "        vertical-align: top;\n",
       "    }\n",
       "\n",
       "    .dataframe thead th {\n",
       "        text-align: right;\n",
       "    }\n",
       "</style>\n",
       "<table border=\"1\" class=\"dataframe\">\n",
       "  <thead>\n",
       "    <tr style=\"text-align: right;\">\n",
       "      <th></th>\n",
       "      <th>Event_Date</th>\n",
       "      <th>Event_Year</th>\n",
       "    </tr>\n",
       "  </thead>\n",
       "  <tbody>\n",
       "    <tr>\n",
       "      <th>0</th>\n",
       "      <td>2000-09-17</td>\n",
       "      <td>2000</td>\n",
       "    </tr>\n",
       "    <tr>\n",
       "      <th>1</th>\n",
       "      <td>2007-12-16</td>\n",
       "      <td>2007</td>\n",
       "    </tr>\n",
       "    <tr>\n",
       "      <th>2</th>\n",
       "      <td>2009-12-18</td>\n",
       "      <td>2009</td>\n",
       "    </tr>\n",
       "    <tr>\n",
       "      <th>3</th>\n",
       "      <td>2011-10-23</td>\n",
       "      <td>2011</td>\n",
       "    </tr>\n",
       "    <tr>\n",
       "      <th>4</th>\n",
       "      <td>2011-07-14</td>\n",
       "      <td>2011</td>\n",
       "    </tr>\n",
       "  </tbody>\n",
       "</table>\n",
       "</div>"
      ],
      "text/plain": [
       "  Event_Date  Event_Year\n",
       "0 2000-09-17        2000\n",
       "1 2007-12-16        2007\n",
       "2 2009-12-18        2009\n",
       "3 2011-10-23        2011\n",
       "4 2011-07-14        2011"
      ]
     },
     "execution_count": 3,
     "metadata": {},
     "output_type": "execute_result"
    }
   ],
   "source": [
    "# Convert Event_Date to datetime and handle parsing\n",
    "df['Event_Date'] = pd.to_datetime(df['Event_Date'], format='%m/%d/%y', errors='coerce')\n",
    "df['Event_Year'] = df['Event_Date'].dt.year\n",
    "\n",
    "df[['Event_Date', 'Event_Year']].head()"
   ]
  },
  {
   "cell_type": "code",
   "execution_count": 4,
   "metadata": {},
   "outputs": [
    {
     "data": {
      "text/plain": [
       "Injury_Severity\n",
       "INCIDENT       1024\n",
       "NON-FATAL       766\n",
       "FATAL           134\n",
       "UNAVAILABLE      63\n",
       "Name: count, dtype: int64"
      ]
     },
     "execution_count": 4,
     "metadata": {},
     "output_type": "execute_result"
    }
   ],
   "source": [
    "# Normalize 'Injury_Severity' and combine all fatal-related categories\n",
    "df['Injury_Severity'] = df['Injury_Severity'].astype(str).str.strip().str.upper()\n",
    "df['Injury_Severity'] = df['Injury_Severity'].replace(\n",
    "    to_replace=r'FATAL\\(\\d+\\)', value='FATAL', regex=True\n",
    ")\n",
    "\n",
    "df['Injury_Severity'].value_counts()"
   ]
  },
  {
   "cell_type": "code",
   "execution_count": 5,
   "metadata": {},
   "outputs": [
    {
     "data": {
      "text/plain": [
       "'../aircraft_incidents_cleaned.csv'"
      ]
     },
     "execution_count": 5,
     "metadata": {},
     "output_type": "execute_result"
    }
   ],
   "source": [
    "# Save the cleaned dataset\n",
    "cleaned_file_path = \"../aircraft_incidents_cleaned.csv\"\n",
    "df.to_csv(cleaned_file_path, index=False)\n",
    "\n",
    "cleaned_file_path"
   ]
  }
 ],
 "metadata": {
  "kernelspec": {
   "display_name": "Python 3",
   "language": "python",
   "name": "python3"
  },
  "language_info": {
   "codemirror_mode": {
    "name": "ipython",
    "version": 3
   },
   "file_extension": ".py",
   "mimetype": "text/x-python",
   "name": "python",
   "nbconvert_exporter": "python",
   "pygments_lexer": "ipython3",
   "version": "3.12.4"
  }
 },
 "nbformat": 4,
 "nbformat_minor": 2
}
